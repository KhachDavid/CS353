{
 "cells": [
  {
   "cell_type": "code",
   "execution_count": null,
   "metadata": {},
   "outputs": [],
   "source": [
    "import numpy as np\n",
    "import scipy as sp\n",
    "import matplotlib.pyplot as plt\n",
    "import matplotlib as mpl\n",
    "import skimage as ski\n",
    "import torch\n",
    "import sklearn as skl\n",
    "print(\"Numpy version: \", np.__version__)\n",
    "print(\"Scipy version: \", sp.__version__)\n",
    "print(\"Matplotlib version: \", mpl.__version__)\n",
    "print(\"PyTorch version: \", torch.__version__)\n",
    "print(\"Scikit-learn version: \", skl.__version__)\n",
    "print(\"Scikit-image version: \", ski.__version__)"
   ]
  },
  {
   "cell_type": "code",
   "execution_count": null,
   "metadata": {},
   "outputs": [],
   "source": [
    "a = np.random.rand(3,3)\n",
    "a = sp.sparse.csr_matrix(a)\n",
    "a = a.todense()\n",
    "a = torch.tensor(a)\n",
    "a = a.numpy()\n",
    "a = ski.transform.resize(a, (100,100))\n",
    "plt.figure()\n",
    "plt.imshow(a)\n",
    "plt.colorbar()\n",
    "plt.show()\n",
    "print(\"Success!\")"
   ]
  }
 ],
 "metadata": {
  "kernelspec": {
   "display_name": "CS396Vision",
   "language": "python",
   "name": "python3"
  },
  "language_info": {
   "codemirror_mode": {
    "name": "ipython",
    "version": 3
   },
   "file_extension": ".py",
   "mimetype": "text/x-python",
   "name": "python",
   "nbconvert_exporter": "python",
   "pygments_lexer": "ipython3",
   "version": "3.11.8"
  }
 },
 "nbformat": 4,
 "nbformat_minor": 2
}
